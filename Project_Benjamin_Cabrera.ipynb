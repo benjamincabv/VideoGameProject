{
    "metadata": {
        "kernelspec": {
            "name": "SQL",
            "display_name": "SQL",
            "language": "sql"
        },
        "language_info": {
            "name": "sql",
            "version": ""
        },
        "polyglot_notebook": {
            "kernelInfo": {
                "defaultKernelName": "csharp",
                "items": [
                    {
                        "aliases": [],
                        "name": "csharp"
                    }
                ]
            }
        }
    },
    "nbformat_minor": 2,
    "nbformat": 4,
    "cells": [
        {
            "cell_type": "markdown",
            "source": [
                "# Video Game Sales and Genre Popularity (1980–2016)\n",
                "\n",
                "## Introduction\n",
                "\n",
                "### This project explores global video game trends using a dataset of over 15,000 games released between 1980 and 2016. The goal is to uncover patterns in platform and genre popularity, regional sales dominance, and publisher performance. The project is organized into five sections, each using a specific SQL competency: Joins, Subqueries, Table Expressions, Set Operators, and Data Modifications.\n",
                "\n",
                "## Dataset\n",
                "\n",
                "### **Name:** Video Game Sales Dataset  \n",
                "**Source:** Kaggle (original), manually cleaned in Excel for SQL import  \n",
                "**Link:** [Video Game Sales 2019 – Kaggle  \n",
                "](https://www.kaggle.com/datasets/ashaheedq/video-games-sales-2019)**Columns:** 14 — Name, Platform, Genre, Developer, Publisher, Year\\_of\\_Release, Sales(5), Scores(2), Rating  \n",
                "**Record Count:** 15,751 rows (after cleaning)  \n",
                "**Notes:** Cleaned with Python queries from VS Code and manually in Excel to resolve encoding and data type issues that were preventing SQL import."
            ],
            "metadata": {
                "azdata_cell_guid": "8b80ba63-1da3-450f-a9f8-f246b23a880a"
            },
            "attachments": {}
        },
        {
            "cell_type": "markdown",
            "source": [
                "## Data Exploration\n",
                "\n",
                "### This section explores the structure of the tables `Video_Games_1980_2016`, `VD_Genres`, `VD_Platforms`, and `VD_Publishers`. The goal is to understand the dataset's schema, column names and meanings, data types, record counts, and uncover other interesting data"
            ],
            "metadata": {
                "azdata_cell_guid": "87d9e5a2-ad77-467a-8745-dfa9ed3003f0"
            },
            "attachments": {}
        },
        {
            "cell_type": "code",
            "source": [
                "USE CAP2761C_Project\n",
                "SELECT TOP 5 * \n",
                "FROM Video_Games_1980_2016;"
            ],
            "metadata": {
                "polyglot_notebook": {
                    "kernelName": "csharp"
                },
                "vscode": {
                    "languageId": "polyglot-notebook"
                },
                "azdata_cell_guid": "d2c2c05b-26b3-4f09-9f9a-946a600b5f28",
                "language": "sql",
                "tags": []
            },
            "outputs": [],
            "execution_count": null
        },
        {
            "cell_type": "markdown",
            "source": [
                "## Video_Games_1980_2016 Table Information:\n",
                "## ## \n",
                "| Column Name     | Data Type     | Description                                      |\n",
                "|------------------|----------------|--------------------------------------------------|\n",
                "| Name             | NVARCHAR(255)  | Title of the video game                          |\n",
                "| Platform         | NVARCHAR(50)   | Platform the game was released on (e.g., PS4, PC)|\n",
                "| Genre            | NVARCHAR(50)   | Type/category of the game (e.g., Action, Sports) |\n",
                "| Developer        | NVARCHAR(255)  | Studio or developer name                         |\n",
                "| Publisher        | NVARCHAR(255)  | Company that published the game                  |\n",
                "| Year_of_Release  | INT            | Year the game was released                       |\n",
                "| NA_Sales         | FLOAT          | Sales in North America (in millions)             |\n",
                "| EU_Sales         | FLOAT          | Sales in Europe (in millions)                    |\n",
                "| JP_Sales         | FLOAT          | Sales in Japan (in millions)                     |\n",
                "| Other_Sales      | FLOAT          | Sales in other regions (in millions)             |\n",
                "| Global_Sales     | FLOAT          | Total global sales (in millions)                 |\n",
                "| Critic_Score     | FLOAT          | Aggregate critic review score                    |\n",
                "| User_Score       | FLOAT          | Aggregate user review score                      |\n",
                "| Rating           | NVARCHAR(50)   | ESRB content rating (e.g., E, M, T)              |\n",
                "\n",
                ""
            ],
            "metadata": {
                "azdata_cell_guid": "eba38c8b-0e6a-43d3-97e6-9406ee680ffe"
            },
            "attachments": {}
        },
        {
            "cell_type": "markdown",
            "source": [
                "## Creating Separate Tables with Key Columns:\n",
                "\n",
                "### \n",
                "\n",
                "- Genre\\_ID \\> VD\\_Genres\n",
                "\n",
                "- Platform\\_ID \\> VD\\_Platforms\n",
                "\n",
                "- Publisher\\_ID \\> VD\\_Publishers"
            ],
            "metadata": {
                "azdata_cell_guid": "caaceaab-1d3a-4842-89c4-448b7519a067"
            },
            "attachments": {}
        },
        {
            "cell_type": "code",
            "source": [
                "USE CAP2761C_Project\n",
                "CREATE TABLE VD_Genres (\n",
                "    Genre_ID INT IDENTITY(1,1) PRIMARY KEY,\n",
                "    Genre_Name NVARCHAR(100) UNIQUE\n",
                ");"
            ],
            "metadata": {
                "polyglot_notebook": {
                    "kernelName": "csharp"
                },
                "vscode": {
                    "languageId": "polyglot-notebook"
                },
                "azdata_cell_guid": "01f32828-cc1c-4256-92d2-8641b14cb19d",
                "language": "sql",
                "tags": []
            },
            "outputs": [],
            "execution_count": null
        },
        {
            "cell_type": "code",
            "source": [
                "USE CAP2761C_Project\n",
                "INSERT INTO VD_Genres (Genre_Name)\n",
                "SELECT DISTINCT Genre \n",
                "FROM Video_Games_1980_2016 \n",
                "WHERE Genre IS NOT NULL;"
            ],
            "metadata": {
                "language": "sql",
                "azdata_cell_guid": "c27acbb6-92b4-40a6-bbdf-78ec0993c87d",
                "tags": []
            },
            "outputs": [],
            "execution_count": null
        },
        {
            "cell_type": "markdown",
            "source": [
                "## VD\\_Genres Table Information:\n",
                "\n",
                "| Column Name | Data Type | Description |\n",
                "| --- | --- | --- |\n",
                "| Genre\\_ID | INT (PK) | Unique ID for genre |\n",
                "| Genre\\_Name | NVARCHAR(100) | Name of the game genre |"
            ],
            "metadata": {
                "azdata_cell_guid": "0928f9ce-a82f-4dae-8cf8-8dcf14cd14dc"
            },
            "attachments": {}
        },
        {
            "cell_type": "code",
            "source": [
                "USE CAP2761C_Project\n",
                "CREATE TABLE VD_Platforms (\n",
                "    Platform_ID INT IDENTITY(1,1) PRIMARY KEY,\n",
                "    Platform_Name NVARCHAR(100) UNIQUE\n",
                ");"
            ],
            "metadata": {
                "polyglot_notebook": {
                    "kernelName": "csharp"
                },
                "vscode": {
                    "languageId": "polyglot-notebook"
                },
                "azdata_cell_guid": "60e3db0f-9d35-4e70-9cdd-fd54b1010d79",
                "language": "sql",
                "tags": [
                    "hide_input"
                ]
            },
            "outputs": [],
            "execution_count": null
        },
        {
            "cell_type": "code",
            "source": [
                "USE CAP2761C_Project\n",
                "INSERT INTO VD_Platforms (Platform_Name)\n",
                "SELECT DISTINCT Platform \n",
                "FROM Video_Games_1980_2016 \n",
                "WHERE Platform IS NOT NULL;"
            ],
            "metadata": {
                "language": "sql",
                "azdata_cell_guid": "a00562f9-6a0b-4f42-a37f-3b97384603b2",
                "tags": []
            },
            "outputs": [],
            "execution_count": null
        },
        {
            "cell_type": "markdown",
            "source": [
                "## VD\\_Platforms table Information:\n",
                "\n",
                "| Column Name | Data Type | Description |\n",
                "| --- | --- | --- |\n",
                "| Platform\\_ID | INT (PK) | Unique ID for platform |\n",
                "| Platform\\_Name | NVARCHAR(100) | Name of the game platform |"
            ],
            "metadata": {
                "azdata_cell_guid": "97e27c56-590d-4e2d-bd05-b088ea8f3de8"
            },
            "attachments": {}
        },
        {
            "cell_type": "code",
            "source": [
                "USE CAP2761C_Project\n",
                "CREATE TABLE VD_Publishers (\n",
                "    Publisher_ID INT IDENTITY(1,1) PRIMARY KEY,\n",
                "    Publisher_Name NVARCHAR(255) UNIQUE\n",
                ");"
            ],
            "metadata": {
                "polyglot_notebook": {
                    "kernelName": "csharp"
                },
                "vscode": {
                    "languageId": "polyglot-notebook"
                },
                "azdata_cell_guid": "f18af771-8d4e-4491-8592-8cd359f29fb1",
                "language": "sql",
                "tags": []
            },
            "outputs": [],
            "execution_count": null
        },
        {
            "cell_type": "code",
            "source": [
                "USE CAP2761C_Project\n",
                "INSERT INTO VD_Publishers (Publisher_Name)\n",
                "SELECT DISTINCT Publisher \n",
                "FROM Video_Games_1980_2016 \n",
                "WHERE Publisher IS NOT NULL;"
            ],
            "metadata": {
                "language": "sql",
                "azdata_cell_guid": "473f0e37-2032-496c-bad0-17de1ba96878",
                "tags": []
            },
            "outputs": [],
            "execution_count": null
        },
        {
            "cell_type": "markdown",
            "source": [
                "## VD\\_Publishers table Information:\n",
                "\n",
                "| Column Name | Data Type | Description |\n",
                "| --- | --- | --- |\n",
                "| Publisher\\_ID | INT (PK) | Unique ID for publisher |\n",
                "| Publisher\\_Name | NVARCHAR(255) | Name of the game publisher |"
            ],
            "metadata": {
                "azdata_cell_guid": "fad16e68-66df-457a-8fc1-6bcdd6425007"
            },
            "attachments": {}
        },
        {
            "cell_type": "markdown",
            "source": [
                "## Altering Main Table to Add Foreign Key Columns"
            ],
            "metadata": {
                "azdata_cell_guid": "5c862bda-d4a4-4bcf-99fe-9e016e01ddac"
            },
            "attachments": {}
        },
        {
            "cell_type": "code",
            "source": [
                "USE CAP2761C_Project\n",
                "ALTER TABLE Video_Games_1980_2016 ADD Genre_ID INT;"
            ],
            "metadata": {
                "polyglot_notebook": {
                    "kernelName": "csharp"
                },
                "vscode": {
                    "languageId": "polyglot-notebook"
                },
                "azdata_cell_guid": "9f5a627d-664e-43b5-b390-96fc9bce5930",
                "language": "sql",
                "tags": []
            },
            "outputs": [],
            "execution_count": null
        },
        {
            "cell_type": "code",
            "source": [
                "USE CAP2761C_Project\n",
                "ALTER TABLE Video_Games_1980_2016 ADD Platform_ID INT;"
            ],
            "metadata": {
                "language": "sql",
                "azdata_cell_guid": "bbca7957-da8c-400f-9b8a-b6ff5df61ac5",
                "tags": []
            },
            "outputs": [],
            "execution_count": null
        },
        {
            "cell_type": "code",
            "source": [
                "USE CAP2761C_Project\n",
                "ALTER TABLE Video_Games_1980_2016 ADD Publisher_ID INT;"
            ],
            "metadata": {
                "language": "sql",
                "azdata_cell_guid": "4d048bb4-d7dc-4c56-bcc4-b261e106bb55",
                "tags": []
            },
            "outputs": [],
            "execution_count": null
        },
        {
            "cell_type": "markdown",
            "source": [
                "## Inserting the ID Columns with JOINs"
            ],
            "metadata": {
                "language": "sql",
                "azdata_cell_guid": "28511815-da04-4d89-89f1-cbcad9492e4b"
            },
            "attachments": {}
        },
        {
            "cell_type": "code",
            "source": [
                "USE CAP2761C_Project\n",
                "UPDATE vg\n",
                "SET Genre_ID = g.Genre_ID\n",
                "FROM Video_Games_1980_2016 vg\n",
                "JOIN VD_Genres g ON vg.Genre = g.Genre_Name;"
            ],
            "metadata": {
                "language": "sql",
                "azdata_cell_guid": "c6050b03-7215-4fb7-89f8-5743079d98f0",
                "tags": []
            },
            "outputs": [],
            "execution_count": null
        },
        {
            "cell_type": "code",
            "source": [
                "USE CAP2761C_Project\n",
                "UPDATE vg\n",
                "SET Platform_ID = p.Platform_ID\n",
                "FROM Video_Games_1980_2016 vg\n",
                "JOIN VD_Platforms p ON vg.Platform = p.Platform_Name;"
            ],
            "metadata": {
                "language": "sql",
                "azdata_cell_guid": "60c2146c-eb46-4dac-bda1-0b5791077520",
                "tags": []
            },
            "outputs": [],
            "execution_count": null
        },
        {
            "cell_type": "code",
            "source": [
                "USE CAP2761C_Project\n",
                "UPDATE vg\n",
                "SET Publisher_ID = pub.Publisher_ID\n",
                "FROM Video_Games_1980_2016 vg\n",
                "JOIN VD_Publishers pub ON vg.Publisher = pub.Publisher_Name;"
            ],
            "metadata": {
                "language": "sql",
                "azdata_cell_guid": "f0eb24c8-ad7e-49f4-b8e5-f2d4493b9f2d",
                "tags": []
            },
            "outputs": [],
            "execution_count": null
        },
        {
            "cell_type": "markdown",
            "source": [
                "## Updated Video_Games_1980_2016 Table Information:\n",
                "## \n",
                "| Column Name       | Data Type     | Description                                      |\n",
                "|-------------------|---------------|--------------------------------------------------|\n",
                "| Name              | NVARCHAR(255) | Title of the video game                          |\n",
                "| Platform         | NVARCHAR(50)   | Platform the game was released on (e.g., PS4, PC)|\n",
                "| Genre            | NVARCHAR(50)   | Type/category of the game (e.g., Action, Sports) |\n",
                "| Developer        | NVARCHAR(255)  | Studio or developer name                         |\n",
                "| Publisher        | NVARCHAR(255)  | Company that published the game                  |\n",
                "| Year_of_Release   | INT           | Year the game was released                       |\n",
                "| NA_Sales          | FLOAT         | Sales in North America (in millions)             |\n",
                "| EU_Sales          | FLOAT         | Sales in Europe (in millions)                    |\n",
                "| JP_Sales          | FLOAT         | Sales in Japan (in millions)                     |\n",
                "| Other_Sales       | FLOAT         | Sales in other regions (in millions)             |\n",
                "| Global_Sales      | FLOAT         | Total global sales (in millions)                 |\n",
                "| Critic_Score      | FLOAT         | Aggregate critic review score                    |\n",
                "| User_Score        | FLOAT         | Aggregate user review score                      |\n",
                "| Rating            | NVARCHAR(50)  | ESRB content rating (e.g., E, M, T)              |\n",
                "| Platform_ID       | INT           | Foreign key referencing Video_Games_Platforms    |\n",
                "| Genre_ID          | INT           | Foreign key referencing Video_Games_Genres       |\n",
                "| Publisher_ID      | INT           | Foreign key referencing Video_Games_Publishers   |\n",
                ""
            ],
            "metadata": {
                "azdata_cell_guid": "500f6bb8-5533-4164-9332-11cbc1cece83"
            },
            "attachments": {}
        },
        {
            "cell_type": "markdown",
            "source": [
                "## Section 1: JOINs"
            ],
            "metadata": {
                "azdata_cell_guid": "30e43047-fdfe-4300-91db-d226d5213864"
            },
            "attachments": {}
        },
        {
            "cell_type": "markdown",
            "source": [
                "## What were the Total Sales by Genre and Platform?"
            ],
            "metadata": {
                "azdata_cell_guid": "80a4ea3f-ef55-4878-8ba4-4f7d4ed2fa34"
            },
            "attachments": {}
        },
        {
            "cell_type": "code",
            "source": [
                "USE CAP2761C_Project\n",
                "\n",
                "SELECT \n",
                "    g.Genre_Name,\n",
                "    p.Platform_Name,\n",
                "    ROUND(SUM(vg.Global_Sales), 1) AS Total_Global_Sales\n",
                "FROM Video_Games_1980_2016 vg\n",
                "JOIN VD_Genres g ON vg.Genre_ID = g.Genre_ID\n",
                "JOIN VD_Platforms p ON vg.Platform_ID = p.Platform_ID\n",
                "GROUP BY g.Genre_Name, p.Platform_Name\n",
                "ORDER BY Total_Global_Sales DESC;"
            ],
            "metadata": {
                "azdata_cell_guid": "74dc6dcc-c753-4de4-9bee-872c9ac423aa",
                "language": "sql",
                "tags": []
            },
            "outputs": [],
            "execution_count": null
        },
        {
            "cell_type": "markdown",
            "source": [
                "## Which are the Top 5 Gaming Platforms and their Global Sales?"
            ],
            "metadata": {
                "language": "sql",
                "azdata_cell_guid": "4ed18c6c-a182-4aaa-b5ee-10126c2d2631"
            },
            "attachments": {}
        },
        {
            "cell_type": "code",
            "source": [
                "USE CAP2761C_Project\n",
                "\n",
                "SELECT TOP 5\n",
                "    p.Platform_Name,\n",
                "    ROUND(SUM(vg.Global_Sales), 1) AS Total_Global_Sales\n",
                "FROM Video_Games_1980_2016 vg\n",
                "JOIN VD_Platforms p ON vg.Platform_ID = p.Platform_ID\n",
                "GROUP BY p.Platform_Name\n",
                "ORDER BY Total_Global_Sales DESC;"
            ],
            "metadata": {
                "language": "sql",
                "azdata_cell_guid": "8462b00b-b2ef-4810-8019-e5209b8c2487",
                "tags": []
            },
            "outputs": [],
            "execution_count": null
        },
        {
            "cell_type": "markdown",
            "source": [
                "## Section 2: SUBQUERIES"
            ],
            "metadata": {
                "language": "sql",
                "azdata_cell_guid": "2711d94c-2e86-4817-b66b-893a9618ce33"
            },
            "attachments": {}
        },
        {
            "cell_type": "markdown",
            "source": [
                "## How many games have been released by each of the Top 5 Gaming Platforms?"
            ],
            "metadata": {
                "language": "sql",
                "azdata_cell_guid": "9cd038ae-8ab7-4527-bbb8-2c833132a41e"
            },
            "attachments": {}
        },
        {
            "cell_type": "code",
            "source": [
                "USE CAP2761C_Project\n",
                "\n",
                "SELECT \n",
                "    p.Platform_Name,\n",
                "    COUNT(*) AS Total_Games,\n",
                "    ROUND(SUM(vg.Global_Sales), 1) AS Total_Global_Sales\n",
                "FROM Video_Games_1980_2016 vg\n",
                "JOIN VD_Platforms p ON vg.Platform_ID = p.Platform_ID\n",
                "WHERE p.Platform_Name IN (\n",
                "    SELECT TOP 5 p2.Platform_Name\n",
                "    FROM Video_Games_1980_2016 vg2\n",
                "    JOIN VD_Platforms p2 ON vg2.Platform_ID = p2.Platform_ID\n",
                "    GROUP BY p2.Platform_Name\n",
                "    ORDER BY SUM(vg2.Global_Sales) DESC\n",
                ")\n",
                "GROUP BY p.Platform_Name\n",
                "ORDER BY Total_Global_Sales DESC;"
            ],
            "metadata": {
                "language": "sql",
                "azdata_cell_guid": "d469a29b-f350-49fb-9158-79199d09b74b",
                "tags": []
            },
            "outputs": [],
            "execution_count": null
        },
        {
            "cell_type": "markdown",
            "source": [
                "## Which are the Top 3 Games of each Platform?"
            ],
            "metadata": {
                "language": "sql",
                "azdata_cell_guid": "eecf9ae5-65ce-42b8-8f60-096eebd9d544"
            },
            "attachments": {}
        },
        {
            "cell_type": "code",
            "source": [
                "USE CAP2761C_Project\n",
                "\n",
                ";WITH Ranked_Games_By_Platform AS (\n",
                "    SELECT \n",
                "        vg.Name,\n",
                "        p.Platform_Name,\n",
                "        pub.Publisher_Name,\n",
                "        vg.Year_of_Release,\n",
                "        vg.Global_Sales,\n",
                "        RANK() OVER (PARTITION BY p.Platform_Name ORDER BY vg.Global_Sales DESC) AS Game_Rank\n",
                "    FROM Video_Games_1980_2016 vg\n",
                "    JOIN VD_Platforms p ON vg.Platform_ID = p.Platform_ID\n",
                "    JOIN VD_Publishers pub ON vg.Publisher_ID = pub.Publisher_ID\n",
                ")\n",
                "SELECT Name, Platform_Name, Publisher_Name, Year_of_Release, Global_Sales\n",
                "FROM Ranked_Games_By_Platform\n",
                "WHERE Game_Rank <= 3\n",
                "ORDER BY Platform_Name, Game_Rank;"
            ],
            "metadata": {
                "language": "sql",
                "azdata_cell_guid": "be073178-b16f-4aaf-809d-7be246df1c72",
                "tags": []
            },
            "outputs": [],
            "execution_count": null
        },
        {
            "cell_type": "markdown",
            "source": [
                "## Which are the Top 3 Games of each Genre?"
            ],
            "metadata": {
                "language": "sql",
                "azdata_cell_guid": "16f039a1-7c25-4d61-b9d3-abcb277c9b8e"
            },
            "attachments": {}
        },
        {
            "cell_type": "code",
            "source": [
                "USE CAP2761C_Project\n",
                "\n",
                ";WITH Ranked_Games_By_Genre AS (\n",
                "    SELECT \n",
                "        vg.Name,\n",
                "        g.Genre_Name,\n",
                "        p.Platform_Name,\n",
                "        pub.Publisher_Name,\n",
                "        vg.Year_of_Release,\n",
                "        vg.Global_Sales,\n",
                "        RANK() OVER (PARTITION BY g.Genre_Name ORDER BY vg.Global_Sales DESC) AS Game_Rank\n",
                "    FROM Video_Games_1980_2016 vg\n",
                "    JOIN VD_Genres g ON vg.Genre_ID = g.Genre_ID\n",
                "    JOIN VD_Platforms p ON vg.Platform_ID = p.Platform_ID\n",
                "    JOIN VD_Publishers pub ON vg.Publisher_ID = pub.Publisher_ID\n",
                ")\n",
                "SELECT Name, Genre_Name, Platform_Name, Publisher_Name, Year_of_Release, Global_Sales\n",
                "FROM Ranked_Games_By_Genre\n",
                "WHERE Game_Rank <= 3\n",
                "ORDER BY Genre_Name, Game_Rank;"
            ],
            "metadata": {
                "language": "sql",
                "azdata_cell_guid": "70535691-2076-428c-b59c-cb8cfca1160e",
                "tags": []
            },
            "outputs": [],
            "execution_count": null
        },
        {
            "cell_type": "markdown",
            "source": [
                "## Section 3: TABLE EXPRESSIONS"
            ],
            "metadata": {
                "language": "sql",
                "azdata_cell_guid": "f4cf4f64-8f52-4e75-b5f9-4e75142d22ad"
            },
            "attachments": {}
        },
        {
            "cell_type": "markdown",
            "source": [
                "## Which is the most Popular Genre per Platform?"
            ],
            "metadata": {
                "language": "sql",
                "azdata_cell_guid": "85aef4c5-5196-4107-abb7-9c25934803f4"
            },
            "attachments": {}
        },
        {
            "cell_type": "code",
            "source": [
                "USE CAP2761C_Project\n",
                "\n",
                ";WITH Genre_Sales AS (\n",
                "    SELECT \n",
                "        p.Platform_Name,\n",
                "        g.Genre_Name,\n",
                "        ROUND(SUM(vg.Global_Sales), 1) AS Total_Global_Sales,\n",
                "        RANK() OVER (PARTITION BY p.Platform_Name ORDER BY SUM(vg.Global_Sales) DESC) AS Genre_Rank\n",
                "    FROM Video_Games_1980_2016 vg\n",
                "    JOIN VD_Platforms p ON vg.Platform_ID = p.Platform_ID\n",
                "    JOIN VD_Genres g ON vg.Genre_ID = g.Genre_ID\n",
                "    GROUP BY p.Platform_Name, g.Genre_Name\n",
                ")\n",
                "SELECT Platform_Name, Genre_Name, Total_Global_Sales\n",
                "FROM Genre_Sales\n",
                "WHERE Genre_Rank = 1\n",
                "ORDER BY Platform_Name;"
            ],
            "metadata": {
                "language": "sql",
                "azdata_cell_guid": "3456fbce-41b3-4bd9-b0de-11eeae78278f",
                "tags": []
            },
            "outputs": [],
            "execution_count": null
        },
        {
            "cell_type": "markdown",
            "source": [
                "## Which were the Top 3 Genres per Region 2006-2016?"
            ],
            "metadata": {
                "language": "sql",
                "azdata_cell_guid": "564a09fc-ad41-4d00-9564-d66fa2d88886"
            },
            "attachments": {}
        },
        {
            "cell_type": "code",
            "source": [
                "USE CAP2761C_Project\n",
                "\n",
                ";WITH Genre_Regional_Sales AS (\n",
                "    SELECT \n",
                "        g.Genre_Name,\n",
                "        ROUND(SUM(vg.NA_Sales), 1) AS NA_Sales,\n",
                "        ROUND(SUM(vg.EU_Sales), 1) AS EU_Sales,\n",
                "        ROUND(SUM(vg.JP_Sales), 1) AS JP_Sales\n",
                "    FROM Video_Games_1980_2016 vg\n",
                "    JOIN VD_Genres g ON vg.Genre_ID = g.Genre_ID\n",
                "    WHERE vg.Year_of_Release BETWEEN 2006 AND 2016\n",
                "    GROUP BY g.Genre_Name\n",
                "),\n",
                "Ranked AS (\n",
                "    SELECT Genre_Name, 'NA' AS Region, NA_Sales AS Regional_Sales,\n",
                "           RANK() OVER (PARTITION BY 'NA' ORDER BY NA_Sales DESC) AS Genre_Rank\n",
                "    FROM Genre_Regional_Sales\n",
                "    UNION ALL\n",
                "    SELECT Genre_Name, 'EU', EU_Sales,\n",
                "           RANK() OVER (PARTITION BY 'EU' ORDER BY EU_Sales DESC)\n",
                "    FROM Genre_Regional_Sales\n",
                "    UNION ALL\n",
                "    SELECT Genre_Name, 'JP', JP_Sales,\n",
                "           RANK() OVER (PARTITION BY 'JP' ORDER BY JP_Sales DESC)\n",
                "    FROM Genre_Regional_Sales\n",
                ")\n",
                "SELECT *\n",
                "FROM Ranked\n",
                "WHERE Genre_Rank <= 3\n",
                "ORDER BY Region, Genre_Rank;"
            ],
            "metadata": {
                "language": "sql",
                "azdata_cell_guid": "f242d213-024a-4ae2-b730-7bb2f346be6c",
                "tags": []
            },
            "outputs": [],
            "execution_count": null
        },
        {
            "cell_type": "markdown",
            "source": [
                "## Section 4: SET OPERATORS"
            ],
            "metadata": {
                "language": "sql",
                "azdata_cell_guid": "1d3a02f3-0d5f-4df7-82ab-f4213de45d5e"
            },
            "attachments": {}
        },
        {
            "cell_type": "markdown",
            "source": [
                "## Which were the Top 3 Platforms per Region 2006-2016?"
            ],
            "metadata": {
                "language": "sql",
                "azdata_cell_guid": "bdb40f83-e6e4-4d1d-b9a5-5f3d0ab0a4a0"
            },
            "attachments": {}
        },
        {
            "cell_type": "code",
            "source": [
                "USE CAP2761C_Project\n",
                "\n",
                ";WITH Platform_Regional_Sales AS (\n",
                "    SELECT \n",
                "        p.Platform_Name,\n",
                "        ROUND(SUM(vg.NA_Sales), 1) AS NA_Sales,\n",
                "        ROUND(SUM(vg.EU_Sales), 1) AS EU_Sales,\n",
                "        ROUND(SUM(vg.JP_Sales), 1) AS JP_Sales\n",
                "    FROM Video_Games_1980_2016 vg\n",
                "    JOIN VD_Platforms p ON vg.Platform_ID = p.Platform_ID\n",
                "    WHERE vg.Year_of_Release BETWEEN 2006 AND 2016\n",
                "    GROUP BY p.Platform_Name\n",
                "),\n",
                "Ranked AS (\n",
                "    SELECT Platform_Name, 'NA' AS Region, NA_Sales AS Regional_Sales,\n",
                "           RANK() OVER (PARTITION BY 'NA' ORDER BY NA_Sales DESC) AS Platform_Rank\n",
                "    FROM Platform_Regional_Sales\n",
                "    UNION ALL\n",
                "    SELECT Platform_Name, 'EU', EU_Sales,\n",
                "           RANK() OVER (PARTITION BY 'EU' ORDER BY EU_Sales DESC)\n",
                "    FROM Platform_Regional_Sales\n",
                "    UNION ALL\n",
                "    SELECT Platform_Name, 'JP', JP_Sales,\n",
                "           RANK() OVER (PARTITION BY 'JP' ORDER BY JP_Sales DESC)\n",
                "    FROM Platform_Regional_Sales\n",
                ")\n",
                "SELECT *\n",
                "FROM Ranked\n",
                "WHERE Platform_Rank <= 3\n",
                "ORDER BY Region, Platform_Rank;"
            ],
            "metadata": {
                "language": "sql",
                "azdata_cell_guid": "173da404-f5eb-487f-ad6c-7d0a323d9684",
                "tags": []
            },
            "outputs": [],
            "execution_count": null
        },
        {
            "cell_type": "markdown",
            "source": [
                "## Which were the Top 3 Publishers per Region and how many games they released 2006-2016?"
            ],
            "metadata": {
                "language": "sql",
                "azdata_cell_guid": "b4749c1b-4167-4e33-8146-065e97c01dea"
            },
            "attachments": {}
        },
        {
            "cell_type": "code",
            "source": [
                "USE CAP2761C_Project\n",
                "\n",
                ";WITH Publisher_Regional AS (\n",
                "    SELECT \n",
                "        pub.Publisher_Name,\n",
                "        COUNT(*) AS Total_Games,\n",
                "        ROUND(SUM(vg.NA_Sales), 1) AS NA_Sales,\n",
                "        ROUND(SUM(vg.EU_Sales), 1) AS EU_Sales,\n",
                "        ROUND(SUM(vg.JP_Sales), 1) AS JP_Sales\n",
                "    FROM Video_Games_1980_2016 vg\n",
                "    JOIN VD_Publishers pub ON vg.Publisher_ID = pub.Publisher_ID\n",
                "    WHERE vg.Year_of_Release BETWEEN 2006 AND 2016\n",
                "    GROUP BY pub.Publisher_Name\n",
                "),\n",
                "Ranked AS (\n",
                "    SELECT Publisher_Name, Total_Games, 'NA' AS Region, NA_Sales AS Regional_Sales,\n",
                "           RANK() OVER (PARTITION BY 'NA' ORDER BY NA_Sales DESC) AS Publisher_Rank\n",
                "    FROM Publisher_Regional\n",
                "    UNION ALL\n",
                "    SELECT Publisher_Name, Total_Games, 'EU', EU_Sales,\n",
                "           RANK() OVER (PARTITION BY 'EU' ORDER BY EU_Sales DESC)\n",
                "    FROM Publisher_Regional\n",
                "    UNION ALL\n",
                "    SELECT Publisher_Name, Total_Games, 'JP', JP_Sales,\n",
                "           RANK() OVER (PARTITION BY 'JP' ORDER BY JP_Sales DESC)\n",
                "    FROM Publisher_Regional\n",
                ")\n",
                "SELECT *\n",
                "FROM Ranked\n",
                "WHERE Publisher_Rank <= 3\n",
                "ORDER BY Region, Publisher_Rank;"
            ],
            "metadata": {
                "language": "sql",
                "azdata_cell_guid": "435e597b-0747-4202-8ccf-3f2b50367a73",
                "tags": []
            },
            "outputs": [],
            "execution_count": null
        },
        {
            "cell_type": "markdown",
            "source": [
                "## Section 5: DATA MODIFICATIONS"
            ],
            "metadata": {
                "language": "sql",
                "azdata_cell_guid": "a9dd9e0e-4615-49ee-925a-1a959d29b37d"
            },
            "attachments": {}
        },
        {
            "cell_type": "markdown",
            "source": [
                "## How can we rename a specific name from the Genre\\_Name column?"
            ],
            "metadata": {
                "language": "sql",
                "azdata_cell_guid": "e04d5937-777b-4f23-b498-9b7979fba562"
            },
            "attachments": {}
        },
        {
            "cell_type": "code",
            "source": [
                "USE CAP2761C_Project\n",
                "\n",
                "UPDATE VD_Genres\n",
                "SET Genre_Name = 'Miscellaneous'\n",
                "WHERE Genre_Name = 'Misc';"
            ],
            "metadata": {
                "language": "sql",
                "azdata_cell_guid": "5684e482-4eb6-4704-a973-e2ce86425409",
                "tags": []
            },
            "outputs": [],
            "execution_count": null
        },
        {
            "cell_type": "markdown",
            "source": [
                "## How can we bring the Main table back to its original column count?"
            ],
            "metadata": {
                "language": "sql",
                "azdata_cell_guid": "ec868546-8193-49a2-95fb-872f158d84a2"
            },
            "attachments": {}
        },
        {
            "cell_type": "code",
            "source": [
                "USE CAP2761C_Project\n",
                "\n",
                "ALTER TABLE Video_Games_1980_2016\n",
                "DROP COLUMN Genre_ID, Publisher_ID, Platform_ID;"
            ],
            "metadata": {
                "language": "sql",
                "azdata_cell_guid": "6b767017-6a2d-4072-add5-29bb8e47f26e",
                "tags": []
            },
            "outputs": [],
            "execution_count": null
        },
        {
            "cell_type": "markdown",
            "source": [
                "## Conclusions\n",
                "\n",
                "### Looking at video game sales from 1980 to 2016, I found some clear patterns in which genres, platforms, and publishers performed the best — and how preferences changed across time and regions.\n",
                "\n",
                "## Genre Highlights\n",
                "\n",
                "### \\- Genres like Action, Shooter, and Sports consistently topped global sales.\n",
                "\n",
                "### \\- Japan stood out with a strong preference for Role-Playing games, while Shooter and Sports dominated in North America and Europe.\n",
                "\n",
                "### \\- Nintendo outperformed all other Publishers in Top games by Genre. \n",
                "\n",
                "## Platform Trends\n",
                "\n",
                "### \\- The top-selling platforms globally included PlayStation 2, Nintendo DS, Wii, PlayStation 3, and Xbox 360.\n",
                "\n",
                "### \\- Each platform leaned into certain genres — for example, Shooters were huge on Xbox, while Family and Party games thrived on Nintendo systems.\n",
                "\n",
                "### \\- The PS3 was the most popular gaming Platform across all Regions between 2006 and 2016.\n",
                "\n",
                "## Regional Differences\n",
                "\n",
                "### \\- North America and Europe had similar tastes — Sports and Shooter games led the charts.\n",
                "\n",
                "### \\- In Japan, Role-Playing and Fighting games were much more popular.\n",
                "\n",
                "### \\- Nintendo showed strong performance across all regions, especially in Japan.\n",
                "\n",
                "### \\- Only a few publishers — like Nintendo, EA, and Activision — made it into the top 10 across all three major regions.\n",
                "\n",
                "## <span style=\"font-family: -apple-system, BlinkMacSystemFont, sans-serif; color: var(--vscode-foreground);\">Publisher Insights</span>\n",
                "\n",
                "### <span style=\"font-size: 14px; font-family: -apple-system, BlinkMacSystemFont, sans-serif; color: var(--vscode-foreground);\">- Nintendo led in both sales and number of releases — no surprise given their global reach and franchise power.</span>\n",
                "\n",
                "### \\- Nintendo is the only Publisher with presence and dominance in all Regions.\n",
                "\n",
                "## Data Cleanup & Modifications\n",
                "\n",
                "### \\- I made a few adjustments to clean and improve the dataset: for example, I renamed the genre \"Misc\" to \"Miscellaneous\".\n",
                "\n",
                "### \\- I also dropped the ID columns (Genre\\_ID, Platform\\_ID, Publisher\\_ID) after using them for joins — that way, the main table stayed clean and ready for reporting.\n",
                "\n",
                "## Final Thoughts\n",
                "\n",
                "### Overall, this project showed how structured SQL analysis — with joins, subqueries, CTEs, set operators, and even data modifications — can reveal real business insights. By combining those techniques with visualizations, I was able to find out which were the most popular gaming Platforms, Publishers and Genres across North America, Europe and Japan."
            ],
            "metadata": {
                "language": "sql",
                "azdata_cell_guid": "b9960244-aca4-4c81-89be-26338c1fef5e"
            },
            "attachments": {}
        }
    ]
}